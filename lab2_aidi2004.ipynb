{
 "cells": [
  {
   "cell_type": "code",
   "execution_count": 2,
   "id": "arranged-atlantic",
   "metadata": {},
   "outputs": [
    {
     "name": "stdout",
     "output_type": "stream",
     "text": [
      "Enter a number here: 5\n",
      "Enter a number here: 6\n",
      "Your sum is  11\n"
     ]
    }
   ],
   "source": [
    "a = int(input(\"Enter a number here: \"))\n",
    "b = int(input(\"Enter a number here: \"))\n",
    "print(\"Your sum is \",a+b)"
   ]
  },
  {
   "cell_type": "code",
   "execution_count": null,
   "id": "furnished-calendar",
   "metadata": {},
   "outputs": [],
   "source": []
  }
 ],
 "metadata": {
  "kernelspec": {
   "display_name": "conda_python3",
   "language": "python",
   "name": "conda_python3"
  },
  "language_info": {
   "codemirror_mode": {
    "name": "ipython",
    "version": 3
   },
   "file_extension": ".py",
   "mimetype": "text/x-python",
   "name": "python",
   "nbconvert_exporter": "python",
   "pygments_lexer": "ipython3",
   "version": "3.6.10"
  }
 },
 "nbformat": 4,
 "nbformat_minor": 5
}
